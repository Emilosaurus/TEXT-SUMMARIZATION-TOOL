{
 "cells": [
  {
   "cell_type": "code",
   "execution_count": 1,
   "id": "d5afe23d",
   "metadata": {},
   "outputs": [],
   "source": [
    "# text as imput\n",
    "text_input = \"\"\"The Magellan spacecraft, named after the sixteenth-century\n",
    " Portuguese explorer whose expedition first circumnavigated the\n",
    " Earth, was launched May 4, 1989, and arrived at Venus on\n",
    " August 10, 1990.  Magellan's solid rocket motor placed it into\n",
    " a near-polar elliptical orbit around the planet.  During the\n",
    " first 8-month mapping cycle around Venus, Magellan collected\n",
    " radar images of 84 percent of the planet's surface, with\n",
    " resolution 10 times better than that of the earlier Soviet\n",
    " Venera 15 and 16 missions.  Altimetry and radiometry data also\n",
    " measured the surface topography and electrical\n",
    " characteristics.  During subsequent cycles the map will be\n",
    " completed, filling gaps in coverage from the first cycle and\n",
    " imaging the south polar region for the first time.  Precision\n",
    " radio tracking of the spacecraft will measure Venus'\n",
    " gravitational field to show the planet's internal mass\n",
    " distribution and the forces which have created the surface\n",
    " features.  Magellan's data will permit the first global\n",
    " geological understanding of Venus, the planet most like Earth\n",
    " in our solar system.\"\"\""
   ]
  },
  {
   "cell_type": "code",
   "execution_count": 2,
   "id": "c5521c92",
   "metadata": {},
   "outputs": [
    {
     "name": "stderr",
     "output_type": "stream",
     "text": [
      "d:\\JUNK\\Anaconda\\Miniconda\\envs\\mypytorchenv\\lib\\site-packages\\tqdm\\auto.py:21: TqdmWarning: IProgress not found. Please update jupyter and ipywidgets. See https://ipywidgets.readthedocs.io/en/stable/user_install.html\n",
      "  from .autonotebook import tqdm as notebook_tqdm\n",
      "Device set to use cuda:0\n"
     ]
    },
    {
     "name": "stdout",
     "output_type": "stream",
     "text": [
      "\n",
      "✅ Summary:\n",
      "\n",
      "the magellan spacecraft is named after the 16th-century Portuguese explorer whose expedition first circumnavigated the Earth . it collected radar images of 84 percent of the planet's surface, with resolution 10 times better than that of the earlier Soviet Venera 15 and 16 missions .\n"
     ]
    }
   ],
   "source": [
    "from transformers import pipeline\n",
    "\n",
    "# Use PyTorch as the backend\n",
    "summarizer = pipeline(\n",
    "    \"summarization\",\n",
    "    model=\"t5-small\",\n",
    "    tokenizer=\"t5-small\",\n",
    "    framework=\"pt\" \n",
    ")\n",
    "\n",
    "\n",
    "\n",
    "# Add T5's prefix for summarization\n",
    "input_text = \"summarize: \" + text_input.strip()\n",
    "\n",
    "# Generate summary\n",
    "summary = summarizer(input_text, max_length=100, min_length=30, do_sample=False)\n",
    "\n",
    "# Output\n",
    "print(\"\\n✅ Summary:\\n\")\n",
    "print(summary[0]['summary_text'])\n"
   ]
  }
 ],
 "metadata": {
  "kernelspec": {
   "display_name": "mypytorchenv",
   "language": "python",
   "name": "python3"
  },
  "language_info": {
   "codemirror_mode": {
    "name": "ipython",
    "version": 3
   },
   "file_extension": ".py",
   "mimetype": "text/x-python",
   "name": "python",
   "nbconvert_exporter": "python",
   "pygments_lexer": "ipython3",
   "version": "3.9.20"
  }
 },
 "nbformat": 4,
 "nbformat_minor": 5
}
